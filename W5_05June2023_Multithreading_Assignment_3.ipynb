{
 "cells": [
  {
   "cell_type": "code",
   "execution_count": null,
   "id": "54432ea1-7053-4427-9fd2-946c28799ae3",
   "metadata": {},
   "outputs": [],
   "source": [
    "'''--------------------- Mutithreading Assignment -----------------------------\n",
    "Q 1 - What is multithreading in ------------------------------  \n",
    "Ans - \n",
    "Multithreading - Multithreading refers to concurrently executing multiple threads by rapidly switching the control\n",
    "of the CPU between threads.\n",
    "Use of Multithreading - \n",
    "a) Multithreading is used to achieve multitasking. \n",
    "b) It increases the performance. \n",
    "c) It minimizes use of system resources\n",
    "d) Simplifies the program structure.\n",
    "Module used - Module used to handle threads in python is 'threading'.\n",
    "'''"
   ]
  },
  {
   "cell_type": "code",
   "execution_count": null,
   "id": "86059621-6f3c-4b8e-80bb-87bb4746d653",
   "metadata": {},
   "outputs": [],
   "source": [
    "'''\n",
    "Q 2 - Why threading module used? -----------------------\n",
    "Ans - Threading module is useed to perform multithreading.\n",
    "\n",
    "activeCount() - activeCount() returns the number of thread objects that are active.\n",
    "\n",
    "currentThread() - currentThread() is returns the current running thread object\n",
    "\n",
    "enumerate() - enumerate() helps to keep track of number of iterations in a loop. It returns an enumerated object\n",
    "containing two values a) a count of number of iterations and b) value of the iterable at the current iteration.\n",
    "'''"
   ]
  },
  {
   "cell_type": "code",
   "execution_count": null,
   "id": "5bfd3b4a-7379-48f1-8942-2337265c701d",
   "metadata": {},
   "outputs": [],
   "source": [
    "'''Q 3 - Explain the functions --------\n",
    "Ans -\n",
    "a) run() - run() executes any target function belonging to the active thread object. It runs in background after\n",
    "the start() is invoked. It can be overridden. \n",
    "\n",
    "b) start() - When a thread object is created it does not start exceuting on its own. It requires to be started.\n",
    "start() is used to activate the thread object and prompts the thread object to run by invoking the run() method. \n",
    "\n",
    "c) join() - It is used to join a thread with the main thread. When join() is used for a particular thread, the \n",
    "main thread will stop exceuting until execution of the target thread is completed. It always returns 'None'. \n",
    "\n",
    "\n",
    "d) is_alive() - is_alive() is used to check whether a thread is alive(still running) or not. It return either \n",
    "'True' or 'False'. If the thread is still running, it returns 'True'. If thread is not running now, it returns \n",
    "'False'. \n",
    "'''"
   ]
  },
  {
   "cell_type": "code",
   "execution_count": null,
   "id": "a141dce0-f544-4658-bf6b-d6a39c7d1551",
   "metadata": {},
   "outputs": [],
   "source": [
    "'''\n",
    "Q 4 - Write a python program to create two threads. -------------------------\n",
    "Ans - \n",
    "'''\n",
    "import threading\n",
    "import os\n",
    "import time\n",
    "import logging\n",
    "logging.basicConfig(filename=\"test1.log\", level=logging.DEBUG, format=\"%(asctime)s %(message)s\")\n",
    "\n",
    "list1 = [1,2,3,4,5,6,7,8,9,10]\n",
    "\n",
    "def squares():\n",
    "    for i in list1:\n",
    "        logging.info(\"{}, Process ID - {} - {}\".format(threading.current_thread().name,os.getpid(),i*i))\n",
    "        time.sleep(1)\n",
    "\n",
    "def cubes():\n",
    "    for i in list1:\n",
    "        logging.info(\"{}, Process ID - {} - {}\".format(threading.current_thread().name,os.getpid(),i*i*i))\n",
    "\n",
    "        time.sleep(1)\n",
    "\n",
    "thread1 = threading.Thread(target=squares)\n",
    "thread2 = threading.Thread(target=cubes)\n",
    "thread1.start()\n",
    "thread2.start()\n",
    "\n",
    "thread1.join()\n",
    "thread2.join()\n",
    "                     \n",
    "logging.shutdown()"
   ]
  },
  {
   "cell_type": "code",
   "execution_count": null,
   "id": "abe72533-8fe8-49d4-aff9-5b0d520025f3",
   "metadata": {},
   "outputs": [],
   "source": [
    "''' Q 5 - State advantages and ---------------------\n",
    "Ans -\n",
    "Advantages of multithreading - \n",
    "a) it enhances the performance by reducing the response time.\n",
    "b) efficient usage of resources.\n",
    "c) allows concurrent and parallel occurence of several tasks.\n",
    "d) it simplifies the program structure, hence reduces the maintenance cost.\n",
    "\n",
    "Disadvantages of multithreading -\n",
    "a) increased overhead of context switching.\n",
    "b) makes debugging and testing more complex.\n",
    "c) it may produce unpredictable results.\n",
    "d) increases potential for deadlock.\n",
    "'''"
   ]
  },
  {
   "cell_type": "code",
   "execution_count": null,
   "id": "c0aa9fd9-2f2d-4c8c-8885-38ad05d4611d",
   "metadata": {},
   "outputs": [],
   "source": [
    "''' Q 6 - Explain deadlock and race conditions.\n",
    "Ans -\n",
    "Deadlock - A deadlock is a concurrency failure mode where a thread or threads wait for a condition that never \n",
    "occurs. It may result in a situation where the threads are unable to progress and program is struck or frozen.\n",
    "\n",
    "Example of deadlock - It can be understood with a situation where a process A is holding the resource R1 and \n",
    "waiting for resource R2. At the same time another process B is holding the resource R2 and is waiting for resource\n",
    "R1. Neither of the processes is willing to release the resource it has occupied. In such a situation no profress \n",
    "can be made. Such a situation is called deadlock.\n",
    "\n",
    "Race Coditions - A race condition occurs when two or more threads try to access a shared variable simultaneously,\n",
    "leading to unpredictable outcomes. In this scenario, the first thread reads the value from the shared variable. At\n",
    "the same time, the second thread also reads the value from the same shared variable. Then both threads attempt to\n",
    "change the value of the shared variable. Since the updates occur simultaneously, it creates a race to determine\n",
    "which thread’s modification is preserved. The final value of the shared variable depends on which thread completes\n",
    "its update last. Whatever thread that changes the value last will win the race.\n",
    "\n",
    "Example of race condition - A simple example of a race condition is a light switch. In some homes, there are \n",
    "multiple light switches connected to a common ceiling light. When these types of circuits are used, the switch \n",
    "position becomes irrelevant. If the light is on, moving either switch from its current position turns the light \n",
    "off. Similarly, if the light is off, then moving either switch from its current position turns the light on. With \n",
    "that in mind, imagine what might happen if two people tried to turn on the light using two different switches at \n",
    "the same time. One instruction might cancel the other or the two actions might trip the circuit breaker.\n",
    "'''"
   ]
  }
 ],
 "metadata": {
  "kernelspec": {
   "display_name": "Python 3 (ipykernel)",
   "language": "python",
   "name": "python3"
  },
  "language_info": {
   "codemirror_mode": {
    "name": "ipython",
    "version": 3
   },
   "file_extension": ".py",
   "mimetype": "text/x-python",
   "name": "python",
   "nbconvert_exporter": "python",
   "pygments_lexer": "ipython3",
   "version": "3.10.8"
  }
 },
 "nbformat": 4,
 "nbformat_minor": 5
}
