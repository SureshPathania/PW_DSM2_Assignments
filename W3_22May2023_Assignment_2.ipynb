{
 "cells": [
  {
   "cell_type": "code",
   "execution_count": 1,
   "id": "24a75788-d561-4d74-83c1-63e5d7ad3a82",
   "metadata": {},
   "outputs": [
    {
     "data": {
      "text/plain": [
       "[('Sachin Tendulkar', 34357),\n",
       " ('Ricky Ponting', 27483),\n",
       " ('Jack Kallis', 25534),\n",
       " ('Virat Kohli', 24936)]"
      ]
     },
     "execution_count": 1,
     "metadata": {},
     "output_type": "execute_result"
    }
   ],
   "source": [
    "'''----------------------Week 3 Assignment 2 -------------------------\n",
    "Q1 - Create a python program to sort the given list of tuples---------\n",
    "Ans - \n",
    "'''\n",
    "list1 = [('Sachin Tendulkar',34357),('Virat Kohli',24936),('Jack Kallis',25534),('Ricky Ponting',27483)]\n",
    "sorted(list1, key = lambda s : s[1], reverse=True)"
   ]
  },
  {
   "cell_type": "code",
   "execution_count": 2,
   "id": "db41fa40-8cd6-49fb-ae9b-45d96c8f3184",
   "metadata": {},
   "outputs": [
    {
     "data": {
      "text/plain": [
       "[1, 4, 9, 16, 25, 36, 49, 64, 81, 100]"
      ]
     },
     "execution_count": 2,
     "metadata": {},
     "output_type": "execute_result"
    }
   ],
   "source": [
    "''' Q2 - Write a python program to find the squares ----------------\n",
    "'''\n",
    "#to square items of a list using lamda and map function\n",
    "list1 = [1, 2, 3, 4, 5, 6, 7, 8, 9, 10]\n",
    "list(map(lambda x : x**2, list1))"
   ]
  },
  {
   "cell_type": "code",
   "execution_count": 3,
   "id": "48cc600c-e366-45b6-8f13-a27690f0e976",
   "metadata": {},
   "outputs": [
    {
     "data": {
      "text/plain": [
       "('1', '2', '3', '4', '5', '6', '7', '8', '9', '10')"
      ]
     },
     "execution_count": 3,
     "metadata": {},
     "output_type": "execute_result"
    }
   ],
   "source": [
    "''' Q3 - Write a python program to convert the given list --------------\n",
    "'''\n",
    "list1 = [1, 2, 3, 4, 5, 6, 7, 8, 9, 10]\n",
    "tuple(map(lambda x : str(x), list1))"
   ]
  },
  {
   "cell_type": "code",
   "execution_count": 4,
   "id": "be2c307f-27d5-43bd-b048-60d732808c65",
   "metadata": {},
   "outputs": [
    {
     "data": {
      "text/plain": [
       "15511210043330985984000000"
      ]
     },
     "execution_count": 4,
     "metadata": {},
     "output_type": "execute_result"
    }
   ],
   "source": [
    "''' Q4 - Write a python program using reduce() to compute ---------------\n",
    "'''\n",
    "from functools import reduce\n",
    "list1 = [1,2,3,4,5,6,7,8,9,10,11,12,13,14,15,16,17,18,19,20,21,22,23,24,25]\n",
    "reduce(lambda x,y : x*y, list1)"
   ]
  },
  {
   "cell_type": "code",
   "execution_count": 5,
   "id": "2f0aef43-1ee8-4870-a133-77c5d1c422ea",
   "metadata": {},
   "outputs": [
    {
     "data": {
      "text/plain": [
       "[6, 60, 120]"
      ]
     },
     "execution_count": 5,
     "metadata": {},
     "output_type": "execute_result"
    }
   ],
   "source": [
    "''' Q5 - Write a python program to filter the numbers --------------------\n",
    "'''\n",
    "list1 = [2,3,6,9,27,60,120,55,46]\n",
    "list(filter(lambda x : x%2 == 0 and x%3 == 0, list1))"
   ]
  },
  {
   "cell_type": "code",
   "execution_count": 6,
   "id": "2e5cea54-82b7-4c5e-97ef-4749324b23b2",
   "metadata": {},
   "outputs": [
    {
     "data": {
      "text/plain": [
       "['php', 'aba', 'radar', 'level']"
      ]
     },
     "execution_count": 6,
     "metadata": {},
     "output_type": "execute_result"
    }
   ],
   "source": [
    "''' Q6 - Write a python program to find palindromes --------------\n",
    "'''\n",
    "list1 = ['python', 'php', 'aba', 'radar', 'level']\n",
    "list(filter(lambda x : x[::1] == x[::-1], list1))"
   ]
  },
  {
   "cell_type": "code",
   "execution_count": null,
   "id": "24c6d5f1-2792-4479-acd8-01d10d41e8db",
   "metadata": {},
   "outputs": [],
   "source": []
  }
 ],
 "metadata": {
  "kernelspec": {
   "display_name": "Python 3 (ipykernel)",
   "language": "python",
   "name": "python3"
  },
  "language_info": {
   "codemirror_mode": {
    "name": "ipython",
    "version": 3
   },
   "file_extension": ".py",
   "mimetype": "text/x-python",
   "name": "python",
   "nbconvert_exporter": "python",
   "pygments_lexer": "ipython3",
   "version": "3.10.8"
  }
 },
 "nbformat": 4,
 "nbformat_minor": 5
}
