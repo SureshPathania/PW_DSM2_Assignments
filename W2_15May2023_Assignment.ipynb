{
 "cells": [
  {
   "cell_type": "code",
   "execution_count": null,
   "id": "d458d82f-87b2-4298-b06f-4c17bd91c912",
   "metadata": {},
   "outputs": [],
   "source": [
    "***********************ASSIGNMENT - 2*****************************\n",
    "\n",
    "Q1 - How do you comment code in ---------\n",
    "Ans - Commenting code means that the part of code will not be executed. It is generally used to show what the code\n",
    "will do. In Python comments are of following types -\n",
    "a) Single Line Comment - A single line can be commented by initiating with '#' symbol.\n",
    "b) Multi Line Comment - Multiple lines of code or text can be commented by enclosing it within triple quotes.\n",
    "One another way of commenting few line of code or text is by first selecting the text and then pressing \"CTRL+ /\" "
   ]
  },
  {
   "cell_type": "code",
   "execution_count": null,
   "id": "eb5984b1-b121-4e4e-bb1f-c1469ac38857",
   "metadata": {},
   "outputs": [],
   "source": [
    "Q2 - What are the variables---------\n",
    "Ans - A variable is defined as a named label whose value can be manipulated during the execution of the program. \n",
    "In python, variables are created or defined only when a value is assigned to it. Syntax for defining a variable is-\n",
    "     var-name = value\n",
    "e.g. - age = 15   or\n",
    "price = 5.75   or   \n",
    "list_x = [2, 3, 4, 5]\n",
    "tuple_x = (11, 12, 13, 14)"
   ]
  },
  {
   "cell_type": "code",
   "execution_count": 8,
   "id": "a0d5095f-6aad-464b-91b2-f6d81a56e2ed",
   "metadata": {},
   "outputs": [
    {
     "name": "stdout",
     "output_type": "stream",
     "text": [
      "x =  12345  and its type is -  <class 'int'>\n",
      "y =  12345  and its type is -  <class 'str'>\n",
      "age_str =  24  and its type is -  <class 'str'>\n",
      "age_int =  24  and its type is -  <class 'int'>\n"
     ]
    }
   ],
   "source": [
    "# Q3 - How do you convert ------\n",
    "# Ans - One data type can be converted to another in python by type casting. There are various functions or methods\n",
    "# available for converting one data type to another. For e.g. -\n",
    "x = 12345\n",
    "y = str(x)\n",
    "print(\"x = \", x, \" and its type is - \", type(x))\n",
    "print(\"y = \", y, \" and its type is - \", type(y))\n",
    "\n",
    "age_str = \"24\"\n",
    "age_int = int(age_str)\n",
    "print(\"age_str = \", age_str, \" and its type is - \", type(age_str))\n",
    "print(\"age_int = \", age_int, \" and its type is - \", type(age_int))"
   ]
  },
  {
   "cell_type": "code",
   "execution_count": null,
   "id": "1557dd90-3893-4457-ac30-c977844fa91b",
   "metadata": {},
   "outputs": [],
   "source": [
    "Q4 - How do you write and execute------\n",
    "Ans - Steps to be followed to write and execute a python script from command line are as follows -\n",
    "a) Open the command line by executing 'cmd' command.\n",
    "b) At the command prompt type 'python' and press  the enter key.\n",
    "c) A \">>>\" prompt will appear.\n",
    "d) Type the script to be executed. e.g. - print(\"Hi\")\n",
    "e) Press enter."
   ]
  },
  {
   "cell_type": "code",
   "execution_count": 2,
   "id": "05f5bbd5-5906-4078-b093-3fe81b004fd3",
   "metadata": {},
   "outputs": [
    {
     "data": {
      "text/plain": [
       "[2, 3]"
      ]
     },
     "execution_count": 2,
     "metadata": {},
     "output_type": "execute_result"
    }
   ],
   "source": [
    "#Q5 - Given a list my_list ----------\n",
    "my_list = [1,2,3,4,5]\n",
    "my_list[1:3]"
   ]
  },
  {
   "cell_type": "code",
   "execution_count": 4,
   "id": "74a24703-83eb-4497-a2a7-07e894013e6d",
   "metadata": {},
   "outputs": [
    {
     "name": "stdout",
     "output_type": "stream",
     "text": [
      "Complex number is -  (2+3j)\n",
      "Real part -  2.0\n",
      "Imaginary part -  3.0\n",
      "Complex number is - (2-3j)\n",
      "Real part -  2.0\n",
      "Imaginary part -  -3.0\n"
     ]
    }
   ],
   "source": [
    "# Q6 - What is a complex number in -----------\n",
    "# Ans - In mathematics, complex number is such a number which is represented in the form x+iy, where x and y are \n",
    "#real numbers and i is and imaginary number called 'iota'. Value of i (iota) is square root of -1. \n",
    "# Complex number has two parts a) real part i.e. x and b) imaginary part i.e. iy.\n",
    "\n",
    "# In python complex number is represented in form x+yj, where x and y are real numbers and j is imaginary number \n",
    "# which is square root of -1.\n",
    "\n",
    "# A complex number can be defined as follows -\n",
    "z = 2+3j\n",
    "print(\"Complex number is - \", z)\n",
    "\n",
    "#Real part of complex number can be accessed by -\n",
    "print(\"Real part - \", z.real)\n",
    "\n",
    "#Imaginary part of complex number can be accessed by -\n",
    "print(\"Imaginary part - \",z.imag)\n",
    "\n",
    "#Complex number can alse be created and accessed as follows -\n",
    "c = complex(2,-3)\n",
    "print(\"Complex number is -\", c)\n",
    "print(\"Real part - \", c.real)\n",
    "print(\"Imaginary part - \", c.imag)"
   ]
  },
  {
   "cell_type": "code",
   "execution_count": 6,
   "id": "e5ecb589-643b-4a2f-af76-5ac3167a1e0b",
   "metadata": {},
   "outputs": [
    {
     "data": {
      "text/plain": [
       "25"
      ]
     },
     "execution_count": 6,
     "metadata": {},
     "output_type": "execute_result"
    }
   ],
   "source": [
    "# Q7 - What is the correct way to declare a variable named age----------\n",
    "# Ans - In python there is no way to declare a variable. A variable is created only when a value is assigned to it.\n",
    "# So in order to declare a variable named age and assigning a value 25 to it just write as follows -\n",
    "# age = 25.\n",
    "age=25\n",
    "age"
   ]
  },
  {
   "cell_type": "code",
   "execution_count": 5,
   "id": "f46b3f24-bdb3-484b-bd80-0b5ed125ce17",
   "metadata": {},
   "outputs": [
    {
     "data": {
      "text/plain": [
       "float"
      ]
     },
     "execution_count": 5,
     "metadata": {},
     "output_type": "execute_result"
    }
   ],
   "source": [
    "# Q8 - Declare a variable named price and assign the --------\n",
    "# Ans - Variable named price can be declared and assigned the value 9.99 by following way -\n",
    "# price = 9.99\n",
    "# It will be of 'float' type\n",
    "\n",
    "price=9.99\n",
    "type(price)"
   ]
  },
  {
   "cell_type": "code",
   "execution_count": 9,
   "id": "ef530981-08fd-425a-9b50-ae84f57193a7",
   "metadata": {},
   "outputs": [
    {
     "name": "stdout",
     "output_type": "stream",
     "text": [
      "My name is -  Suresh Pathania\n"
     ]
    }
   ],
   "source": [
    "# Q9 - Create a variable named name and assign your ------------\n",
    "name=\"Suresh Pathania\"\n",
    "print(\"My name is - \",name)"
   ]
  },
  {
   "cell_type": "code",
   "execution_count": 10,
   "id": "a6565bf2-85a8-4b45-bdad-8718fc1edc27",
   "metadata": {},
   "outputs": [
    {
     "data": {
      "text/plain": [
       "'World'"
      ]
     },
     "execution_count": 10,
     "metadata": {},
     "output_type": "execute_result"
    }
   ],
   "source": [
    "#Q10 - Given the string \"Hello World!\", extract the substring -------\n",
    "#Ans -\n",
    "str1 = \"Hello World!\"\n",
    "str2 = str1[6:11]\n",
    "str2"
   ]
  },
  {
   "cell_type": "code",
   "execution_count": 11,
   "id": "36372ff4-cc37-41f3-9d98-c03ca08d5ba0",
   "metadata": {},
   "outputs": [
    {
     "name": "stdout",
     "output_type": "stream",
     "text": [
      "Yes, I am a student.\n"
     ]
    }
   ],
   "source": [
    "#Q11 - Create a variable named \"is_student\" and ---------\n",
    "#Ans -\n",
    "is_student = True\n",
    "if is_student == True:\n",
    "    print(\"Yes, I am a student.\")\n",
    "elif is_student == False:\n",
    "    print(\"No, I am not a student.\")"
   ]
  },
  {
   "cell_type": "code",
   "execution_count": null,
   "id": "967a47ad-40b6-44ed-aae0-ea20872026cf",
   "metadata": {},
   "outputs": [],
   "source": []
  }
 ],
 "metadata": {
  "kernelspec": {
   "display_name": "Python 3 (ipykernel)",
   "language": "python",
   "name": "python3"
  },
  "language_info": {
   "codemirror_mode": {
    "name": "ipython",
    "version": 3
   },
   "file_extension": ".py",
   "mimetype": "text/x-python",
   "name": "python",
   "nbconvert_exporter": "python",
   "pygments_lexer": "ipython3",
   "version": "3.10.8"
  }
 },
 "nbformat": 4,
 "nbformat_minor": 5
}
