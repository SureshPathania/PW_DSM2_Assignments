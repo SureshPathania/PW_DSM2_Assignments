{
 "cells": [
  {
   "cell_type": "code",
   "execution_count": 1,
   "id": "be155c92-e6d0-4c27-aee3-9e11b8de1149",
   "metadata": {},
   "outputs": [
    {
     "name": "stdout",
     "output_type": "stream",
     "text": [
      "[1, 3, 5, 7, 9, 11, 13, 15, 17, 19, 21, 23, 25]\n"
     ]
    }
   ],
   "source": [
    "#Q1 - Which keyword is used to create a function? Create------------\n",
    "#Ans - def keyword is used to create a function.\n",
    "def create_list():\n",
    "    l = []\n",
    "    for i in range(1,26,2):\n",
    "        l.append(i)\n",
    "    return l\n",
    "print(create_list())"
   ]
  },
  {
   "cell_type": "code",
   "execution_count": 2,
   "id": "a323a81b-f1ca-4cce-aada-00100d3e733d",
   "metadata": {},
   "outputs": [
    {
     "name": "stdout",
     "output_type": "stream",
     "text": [
      "Sum =  14\n",
      "Total Balls =  35\n"
     ]
    }
   ],
   "source": [
    "\"\"\"Q2 - Why *args and **kwargs is used in some --------\n",
    "Ans - *args - It means non-keyword arguments. It is used in functions where we don't know the number of \n",
    "arguments that will be passed to the function in advance or it is used in functions having variable number of \n",
    "arguments (dynamic arguments).\n",
    "*kwargs - It means keyword arguments. It is used in functions where we don't know the number of arguments that\n",
    "will be passed to the function in advance or is used in functions having variable number of keyword arguments\n",
    "(dynamic arguments).\n",
    "\"\"\"\n",
    "#function demonstrating use of *args\n",
    "def sum1(*args):\n",
    "    s = 0\n",
    "    for i in args:\n",
    "       s = s+i\n",
    "    return s\n",
    "print(\"Sum = \",sum1(2,3,4,5))\n",
    "\n",
    "#function demonstrating use of **kwargs\n",
    "def sum_balls(**kwargs):\n",
    "    s = 0\n",
    "    for i,j in kwargs.items():\n",
    "        s = s + j\n",
    "    return s\n",
    "print(\"Total Balls = \",sum_balls(red=5, blue=12, yellow=7, orange=11))"
   ]
  },
  {
   "cell_type": "code",
   "execution_count": 3,
   "id": "7cff6f66-68e1-4087-913f-e7c38ce5f0f8",
   "metadata": {},
   "outputs": [
    {
     "name": "stdout",
     "output_type": "stream",
     "text": [
      "Element 1 =  2\n",
      "Element 2 =  4\n",
      "Element 3 =  6\n",
      "Element 4 =  8\n",
      "Element 5 =  10\n"
     ]
    }
   ],
   "source": [
    "\"\"\"Q3 - What is an iterator in python? Name the -------------\n",
    "Ans - Iterator - An iterator is defined as an object that allows us to iterate over the collection of data.\n",
    "Various examples of iterator are list, set, dictionary, tuple etc.\n",
    "Method used for initializing the iterator is iter().\n",
    "Method used for iteration is next().\n",
    "\"\"\"\n",
    "# demonstrating use of iter() and next()\n",
    "l1 = [2, 4, 6, 8, 10, 12, 14, 16, 18, 20]\n",
    "x = iter(l1)\n",
    "def iter_list(list1):\n",
    "    for i in range(5):\n",
    "        print(f\"Element {i+1} = \",next(list1))\n",
    "iter_list(x)"
   ]
  },
  {
   "cell_type": "code",
   "execution_count": 1,
   "id": "d8e445a8-2b95-44af-8a64-1466d9c470a8",
   "metadata": {},
   "outputs": [
    {
     "name": "stdin",
     "output_type": "stream",
     "text": [
      "Enter the number =  3\n",
      "Enter number of terms =  7\n"
     ]
    },
    {
     "name": "stdout",
     "output_type": "stream",
     "text": [
      "3 * 1 = 3\n",
      "3 * 2 = 6\n",
      "3 * 3 = 9\n",
      "3 * 4 = 12\n",
      "3 * 5 = 15\n",
      "3 * 6 = 18\n",
      "3 * 7 = 21\n"
     ]
    }
   ],
   "source": [
    "\"\"\"Q4 - What is a generator function in python? Why yield---------------\n",
    "Ans - Generator Function - A generator function in python is like other normal functions but it returns an \n",
    "iterator object with a sequence of values when iterated over it.\n",
    "yield - yield statement returns a value and pauses the execution while maintaining the internal states and again\n",
    "returns a value on calling next() and then pauses the execution while maintaining the internal states.\n",
    "\"\"\"\n",
    "\n",
    "#demonstrating generator function to print multiples of a number\n",
    "def gen_table(n):\n",
    "    cnt = 1\n",
    "    while cnt <= n:\n",
    "        yield cnt\n",
    "        cnt += 1\n",
    "num = int(input(\"Enter the number = \"))\n",
    "term = int(input(\"Enter number of terms = \"))\n",
    "c = gen_table(term)\n",
    "for i in c:\n",
    "    print(f\"{num} * {i} = {num*i}\")"
   ]
  },
  {
   "cell_type": "code",
   "execution_count": 2,
   "id": "cd897a9b-4cfd-4bb4-ab25-ad4407dc2b23",
   "metadata": {},
   "outputs": [
    {
     "name": "stdout",
     "output_type": "stream",
     "text": [
      "2\n",
      "3\n",
      "5\n",
      "7\n",
      "11\n",
      "13\n",
      "17\n",
      "19\n",
      "23\n",
      "29\n",
      "31\n",
      "37\n",
      "41\n",
      "43\n",
      "47\n",
      "53\n",
      "59\n",
      "61\n",
      "67\n",
      "71\n"
     ]
    }
   ],
   "source": [
    "\"\"\"Q5 - Create a generator function for prime ------------\n",
    "\"\"\"\n",
    "def gen_prime():\n",
    "    yield 2\n",
    "    yield 3\n",
    "    for i in range(4, 1000):\n",
    "        status = True\n",
    "        for j in range(2, (i//2)+1):\n",
    "            if i%j == 0:\n",
    "                status = False\n",
    "                break\n",
    "        if status == True:\n",
    "            yield i\n",
    "primex = gen_prime()\n",
    "for i in range(20):\n",
    "    print(next(primex))"
   ]
  },
  {
   "cell_type": "code",
   "execution_count": 3,
   "id": "d8fb5756-8e7a-4252-898f-151f8a7af072",
   "metadata": {},
   "outputs": [
    {
     "name": "stdout",
     "output_type": "stream",
     "text": [
      "0\n",
      "1\n",
      "1\n",
      "2\n",
      "3\n",
      "5\n",
      "8\n",
      "13\n",
      "21\n",
      "34\n"
     ]
    }
   ],
   "source": [
    "'''Q6 - Write a python program to print first 10 fibinacci-------\n",
    "'''\n",
    "def while_fibo():\n",
    "    a,b = 0,1\n",
    "    while True:\n",
    "        yield a\n",
    "        a,b = b, a+b\n",
    "fibo = while_fibo()\n",
    "for i in range(10):\n",
    "    print(next(fibo))"
   ]
  },
  {
   "cell_type": "code",
   "execution_count": 4,
   "id": "c56d2b61-930d-4e19-98c8-18676ae351e1",
   "metadata": {},
   "outputs": [
    {
     "data": {
      "text/plain": [
       "['p', 'w', 's', 'k', 'i', 'l', 'l', 's']"
      ]
     },
     "execution_count": 4,
     "metadata": {},
     "output_type": "execute_result"
    }
   ],
   "source": [
    "'''Q7 - Write a List Comprehension to iterate------------\n",
    "'''\n",
    "str1 = \"pwskills\"\n",
    "li_str = [l for l in str1]\n",
    "li_str"
   ]
  },
  {
   "cell_type": "code",
   "execution_count": 5,
   "id": "c6ea9bf2-fb5f-4107-83ee-51ef28c32d42",
   "metadata": {},
   "outputs": [
    {
     "name": "stdin",
     "output_type": "stream",
     "text": [
      "Enter the number =  1221\n"
     ]
    },
    {
     "name": "stdout",
     "output_type": "stream",
     "text": [
      "1221 is a palindrome number.\n"
     ]
    }
   ],
   "source": [
    "'''Q8 - Write a python program to check ---------\n",
    "'''\n",
    "def palindrome(n):\n",
    "    i = n\n",
    "    j=0\n",
    "    while(i):\n",
    "        j = j*10 + (i%10)\n",
    "        i = i//10\n",
    "    if j == n:\n",
    "        print(f\"{n} is a palindrome number.\")\n",
    "    else:\n",
    "        print(f\"{n} is not a palindrome number.\")\n",
    "x = int(input(\"Enter the number = \"))\n",
    "palindrome(x)"
   ]
  },
  {
   "cell_type": "code",
   "execution_count": 7,
   "id": "4698667d-2912-4e3d-afae-4083d5c67fe7",
   "metadata": {},
   "outputs": [
    {
     "name": "stdout",
     "output_type": "stream",
     "text": [
      "[1, 3, 5, 7, 9, 11, 13, 15, 17, 19, 21, 23, 25, 27, 29, 31, 33, 35, 37, 39, 41, 43, 45, 47, 49, 51, 53, 55, 57, 59, 61, 63, 65, 67, 69, 71, 73, 75, 77, 79, 81, 83, 85, 87, 89, 91, 93, 95, 97, 99]\n"
     ]
    }
   ],
   "source": [
    "'''Q9 - Write a code to print odd numbers from ---------\n",
    "'''\n",
    "l1 = [l for l in range(1,101)]\n",
    "l2 = [l for l in l1[::2]]\n",
    "print(l2)"
   ]
  },
  {
   "cell_type": "code",
   "execution_count": null,
   "id": "a37d0e70-a0f2-4660-a784-166b0eff40a5",
   "metadata": {},
   "outputs": [],
   "source": []
  }
 ],
 "metadata": {
  "kernelspec": {
   "display_name": "Python 3 (ipykernel)",
   "language": "python",
   "name": "python3"
  },
  "language_info": {
   "codemirror_mode": {
    "name": "ipython",
    "version": 3
   },
   "file_extension": ".py",
   "mimetype": "text/x-python",
   "name": "python",
   "nbconvert_exporter": "python",
   "pygments_lexer": "ipython3",
   "version": "3.10.8"
  }
 },
 "nbformat": 4,
 "nbformat_minor": 5
}
