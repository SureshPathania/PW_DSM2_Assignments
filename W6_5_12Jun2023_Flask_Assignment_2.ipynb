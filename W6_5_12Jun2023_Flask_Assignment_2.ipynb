{
 "cells": [
  {
   "cell_type": "code",
   "execution_count": null,
   "id": "6092453a-1130-4229-b219-90878e053c80",
   "metadata": {},
   "outputs": [],
   "source": [
    "''' ---------------------------- Flask Assignment - 2 --------------------------------\n",
    "Que 1 -Explain GET and POST methods?\n",
    "Ans -\n",
    "GET - This method is used to retrieve data from the server. \n",
    "e.g In an eCommerce application, there is a search button to search for an item. after entering a keyword if we \n",
    "noticed, the keyword you searched for gets displayed in the URL. This request is used when the data is not \n",
    "sensitive.\n",
    "\n",
    "POST - This method makes enables users to send data over to the server. e.g In any authentication-enabled \n",
    "application, the registration and login form is the best example for the post method. Whenever we enter Information\n",
    "and submit the data get transferred over to the POST request. And if we noticed, unlike get request there is no \n",
    "information will be ever displayed in the URL.\n",
    "\n",
    "Handling GET & POST requests using flask in Python -\n",
    "To handle Requests in flask we are having a route decorator. In that, there is a methods attribute that indicates \n",
    "what type of request a particular function is accepting. If we keep its value empty then it by default accepts a \n",
    "GET request.\n",
    "'''"
   ]
  },
  {
   "cell_type": "code",
   "execution_count": null,
   "id": "799cf231-32e1-44bb-926e-03a307fc0f79",
   "metadata": {},
   "outputs": [],
   "source": [
    "'''\n",
    "Que 2 - Why is request used in Flask? \n",
    "Ans - Request object in Flask is used to access the incoming data. The request object holds all incoming data from\n",
    "the request, which includes the mimetype, referrer, IP address, raw data, HTTP method, and headers, among other \n",
    "things.\n",
    "In a Flask App, we have our own Webpage (Client) and a Server. The Server should process the data.  The Request, in\n",
    "Flask, is an object that contains all the data sent from the Client to Server. This data can be recovered using the\n",
    "GET/POST Methods. POST is used when application expects user input to be received by command or an HTTP request, \n",
    "while GET gets all the information before it even has a chance for submission. Using both methods at once gives \n",
    "perfect freedom but still requires complex UI patterns like AJAX calls etc, with most common applications being \n",
    "frameworks where multiple forms are necessary such as Slack Webhooks, MailgunMailserver, and eCommerce Commerce \n",
    "Framework. With Flask-Request class instead, we don’t have any need anymore since this API allows us flexible \n",
    "handling of many other situations. There are various attributes associated with the request objects. They are Form,\n",
    "Cookies, Args, Files, and Method.\n",
    "'''"
   ]
  },
  {
   "cell_type": "code",
   "execution_count": null,
   "id": "46ae678e-935d-40b1-aff2-fc6928294090",
   "metadata": {},
   "outputs": [],
   "source": [
    "'''\n",
    "Que 3 - Why is redirect used in Flask?\n",
    "Ans -\n",
    "redirect() - Flask redirect is defined as a function or utility in Flask which allows developers to redirect users\n",
    "to a specified URL and assign a specified status code. When this function is called, a response object is returned,\n",
    "and the redirection happens to the target location with the status code. \n",
    "Syntax -\n",
    "        flask.redirect(<location>,<status-code>, <response>)\n",
    "e.g. -\n",
    "'''\n",
    "from flask import Flask, redirect, url_for\n",
    "appFlask = Flask(__name__)\n",
    "\n",
    "@appFlask.route(\"/home\")\n",
    "def home():\n",
    "    return redirect(url_for('LoginPage'))\n",
    "\n",
    "@appFlask.route(\"/LoginPage\")\n",
    "def LoginPage():\n",
    "    return \"You are redirected to Login Page\"\n",
    "\n",
    "if __name__ == \"__main__\":\n",
    "    appFlask.run(debug=True)"
   ]
  },
  {
   "cell_type": "code",
   "execution_count": null,
   "id": "0707df0f-3f83-4a83-b9b1-8686f701a733",
   "metadata": {},
   "outputs": [],
   "source": [
    "'''Que 4 - What are templates in Flask? -----------------\n",
    "Ans -\n",
    "Templates in Flask - Templates are files that contain static data as well as placeholders for dynamic data. A \n",
    "template is rendered with specific data to produce a final document. Flask uses the Jinja template library to \n",
    "render templates. We use templates to render HTML which will display in the user’s browser. \n",
    "\n",
    "render_template() function - render_template() function is used to generate output from a template file based on\n",
    "the Jinja2 engine that is found in the application's templates folder. render_template() function is typically \n",
    "imported directly from the flask package instead of from flask.templating.\n",
    "\n",
    "'''"
   ]
  },
  {
   "cell_type": "code",
   "execution_count": null,
   "id": "76b5b1a2-6334-4bc5-a8eb-f8647852962d",
   "metadata": {},
   "outputs": [],
   "source": [
    "'''\n",
    "Que 5 - Create a simple API. ---------------------------\n",
    "Ans - \n",
    "Link of snapshot - \n",
    "https://github.com/SureshPathania/PW_DSM2_Assignments/blob/main/W6_Flask_Assignment_2_Que5_Snapshot1.jpg\n",
    "'''"
   ]
  }
 ],
 "metadata": {
  "kernelspec": {
   "display_name": "Python 3 (ipykernel)",
   "language": "python",
   "name": "python3"
  },
  "language_info": {
   "codemirror_mode": {
    "name": "ipython",
    "version": 3
   },
   "file_extension": ".py",
   "mimetype": "text/x-python",
   "name": "python",
   "nbconvert_exporter": "python",
   "pygments_lexer": "ipython3",
   "version": "3.10.8"
  }
 },
 "nbformat": 4,
 "nbformat_minor": 5
}
