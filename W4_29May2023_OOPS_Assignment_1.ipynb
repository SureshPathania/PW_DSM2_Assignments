{
 "cells": [
  {
   "cell_type": "code",
   "execution_count": 1,
   "id": "557225da-dee8-4bb2-86c5-995a3b0bc78d",
   "metadata": {},
   "outputs": [
    {
     "name": "stdout",
     "output_type": "stream",
     "text": [
      "A = 7, B = 9\n",
      "63\n"
     ]
    }
   ],
   "source": [
    "'''----------------------------OOPS Assignment 1 -------------------------------\n",
    "Q 1 - Explain class and object with respect to Object -------\n",
    "Ans - Class - A class is a template definition of the methods and variables in a particular kind of object.\n",
    "Class is basically a blueprint of the real world entity.\n",
    "Object - An object is defined as a specific instance of a class.\n",
    "'''\n",
    "class test:\n",
    "    def __init__(self, v1, v2):\n",
    "        self.a = v1\n",
    "        self.b = v2\n",
    "    \n",
    "    def sum(self):\n",
    "        return self.a + self.b\n",
    "    \n",
    "    def diff(self):\n",
    "        return self.a - self.b\n",
    "    \n",
    "    def mul(self):\n",
    "        return self.a*self.b\n",
    "    \n",
    "    def div(self):\n",
    "        return self.a/self.b\n",
    "    \n",
    "    def show(self):\n",
    "        print(f\"A = {self.a}, B = {self.b}\")\n",
    "\n",
    "test_obj = test(7, 9)\n",
    "test_obj.show()\n",
    "print(test_obj.mul())"
   ]
  },
  {
   "cell_type": "markdown",
   "id": "a9a2080d-60e9-41b3-a5b0-9f12f566c587",
   "metadata": {},
   "source": [
    "'''\n",
    "Q 2 - Name the four pillars of OOPs.\n",
    "Ans - FOur pillars of OOPs are \n",
    "1) Abstraction\n",
    "2) Encapsulation\n",
    "3) Inheritance\n",
    "4) Polymorphism\n",
    "'''"
   ]
  },
  {
   "cell_type": "code",
   "execution_count": 3,
   "id": "7866779d-baf8-4980-9fca-e2aa44db94c6",
   "metadata": {},
   "outputs": [
    {
     "name": "stdout",
     "output_type": "stream",
     "text": [
      "A = 7, B = 10\n"
     ]
    }
   ],
   "source": [
    "'''\n",
    "Q 3 - Explain why the __init__() function is ------------\n",
    "Ans - __init__() is the python equivalent of constructor in the OOP language. It is called automatically whenever\n",
    "an object of the class is created. It is used for initializing the object's attributes. \n",
    "'''\n",
    "class test:\n",
    "    def __init__(self, v1, v2):\n",
    "        self.a = v1\n",
    "        self.b = v2\n",
    "    \n",
    "    def show(self):\n",
    "        print(f\"A = {self.a}, B = {self.b}\")\n",
    "\n",
    "test_obj = test(7,10)\n",
    "test_obj.show()"
   ]
  },
  {
   "cell_type": "markdown",
   "id": "a73d5e10-2dce-4a7c-8c94-61b34f6a895a",
   "metadata": {},
   "source": [
    "''' Q 4 - Why self is used in python?\n",
    "Ans - In Python self represent the object of the class itself. It allows us to access variables, attributes,\n",
    "and methods of the defined class. It increases the readbility of the code.\n",
    "'''"
   ]
  },
  {
   "cell_type": "code",
   "execution_count": 4,
   "id": "bc961d1f-1454-4351-b51d-cf60a22450d8",
   "metadata": {},
   "outputs": [
    {
     "name": "stdout",
     "output_type": "stream",
     "text": [
      "This is base class.\n",
      "This is child class.\n"
     ]
    }
   ],
   "source": [
    "'''Q 5 - What is inheritance? Give -----------\n",
    "Ans - Inheritance - Inheritance is the ability of a class to inherit features or attributes from already existing\n",
    "classes into newer classes.\n",
    "\n",
    "e.g. - Single level inheritance'''\n",
    "class parent:\n",
    "    def msg1(self):\n",
    "        print(\"This is base class.\")\n",
    "\n",
    "class child(parent):\n",
    "    def msg2(self):\n",
    "        print(\"This is child class.\")\n",
    "\n",
    "child_obj = child()\n",
    "child_obj.msg1()\n",
    "child_obj.msg2()"
   ]
  },
  {
   "cell_type": "code",
   "execution_count": 5,
   "id": "fdf72924-c8dc-466a-a233-71794994a9c8",
   "metadata": {},
   "outputs": [
    {
     "name": "stdout",
     "output_type": "stream",
     "text": [
      "This is parent class 1.\n",
      "This is child class.\n"
     ]
    }
   ],
   "source": [
    "'''Multiple Inheritance'''\n",
    "class parent1:\n",
    "    def parent_msg(self):\n",
    "        print(\"This is parent class 1.\")\n",
    "\n",
    "class parent2:\n",
    "    def parent_msg(self):\n",
    "        print(\"This is parent class 2.\")\n",
    "\n",
    "class child(parent1, parent2):\n",
    "    def child_msg(self):\n",
    "        print(\"This is child class.\")\n",
    "\n",
    "child_obj = child()\n",
    "child_obj.parent_msg()\n",
    "child_obj.child_msg()"
   ]
  },
  {
   "cell_type": "code",
   "execution_count": 6,
   "id": "397bc750-f3da-4d98-a1e6-a9804f2bb9ef",
   "metadata": {},
   "outputs": [
    {
     "name": "stdout",
     "output_type": "stream",
     "text": [
      "This is grand parent\n",
      "This is parent class\n",
      "This is parent class 2.\n",
      "This is child class\n"
     ]
    }
   ],
   "source": [
    "'''Multilevel Inheritance'''\n",
    "class grand_parent:\n",
    "    def grand_parent_msg(self):\n",
    "        print(\"This is grand parent\")\n",
    "class parent(grand_parent):\n",
    "    def parent_msg(self):\n",
    "        print(\"This is parent class\")\n",
    "class child(parent):\n",
    "    def child_msg(self):\n",
    "        print(\"This is child class\")\n",
    "child_obj = child()\n",
    "child_obj.grand_parent_msg()\n",
    "child_obj.parent_msg()\n",
    "parent2.parent_msg(child_obj)\n",
    "child_obj.child_msg()"
   ]
  },
  {
   "cell_type": "code",
   "execution_count": null,
   "id": "dc45b232-bd19-4236-b457-41b35877ea21",
   "metadata": {},
   "outputs": [],
   "source": [
    "''' ----- Hierarchical Inheritance ---'''\n",
    "class vehicle:\n",
    "    pass\n",
    "\n",
    "class car(vehicle):\n",
    "    pass\n",
    "\n",
    "class autorickshaw(vehicle):\n",
    "    pass\n",
    "\n",
    "class motorcycle(vehicle):\n",
    "    pass"
   ]
  },
  {
   "cell_type": "code",
   "execution_count": 7,
   "id": "9b013f5b-cebc-4f83-ae64-35263f34f93c",
   "metadata": {},
   "outputs": [],
   "source": [
    "''' ----- Hybrid Inheritance ---- '''\n",
    "class test1:\n",
    "    pass\n",
    "\n",
    "class test2:\n",
    "    pass\n",
    "\n",
    "class test3(test1, test2):\n",
    "    pass\n",
    "\n",
    "class test4(test1):\n",
    "    pass\n",
    "\n",
    "class test5(test4):\n",
    "    pass\n",
    "\n",
    "class test6(test4):\n",
    "    pass"
   ]
  },
  {
   "cell_type": "code",
   "execution_count": null,
   "id": "ded1511e-1baf-4777-bf32-3641135baa8b",
   "metadata": {},
   "outputs": [],
   "source": []
  }
 ],
 "metadata": {
  "kernelspec": {
   "display_name": "Python 3 (ipykernel)",
   "language": "python",
   "name": "python3"
  },
  "language_info": {
   "codemirror_mode": {
    "name": "ipython",
    "version": 3
   },
   "file_extension": ".py",
   "mimetype": "text/x-python",
   "name": "python",
   "nbconvert_exporter": "python",
   "pygments_lexer": "ipython3",
   "version": "3.10.8"
  }
 },
 "nbformat": 4,
 "nbformat_minor": 5
}
