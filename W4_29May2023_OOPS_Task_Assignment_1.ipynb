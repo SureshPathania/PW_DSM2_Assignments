{
 "cells": [
  {
   "cell_type": "code",
   "execution_count": 1,
   "id": "bbef45a6-af7e-435b-9f0b-6f0f3837ce75",
   "metadata": {},
   "outputs": [],
   "source": [
    "'''-----------------------OOPS TASK ASSIGNMENT (WEEK 4)-----------------------------\n",
    "Q1 - Create a vehicle class with init method having instance-------------\n",
    "Ans - \n",
    "'''\n",
    "class vehicle:\n",
    "    def __init__(self,veh_name, max_speed, veh_avg):\n",
    "        self.name_of_vehicle = veh_name\n",
    "        self.max_speed = max_speed\n",
    "        self.average_of_vehicle = veh_avg"
   ]
  },
  {
   "cell_type": "code",
   "execution_count": 2,
   "id": "b91d471a-5396-4de4-ab53-5ea025c513fd",
   "metadata": {},
   "outputs": [
    {
     "name": "stdout",
     "output_type": "stream",
     "text": [
      "('swift', 5)\n"
     ]
    }
   ],
   "source": [
    "'''\n",
    "Q2 - Create a child class car from vehicle class created in -----------\n",
    "Ans -\n",
    "'''\n",
    "class car(vehicle):\n",
    "    def seating_capacity(self, capacity):\n",
    "        self.capacity = capacity\n",
    "        return self.name_of_vehicle, self.capacity\n",
    "\n",
    "car_obj = car(\"swift\",180,24)\n",
    "print(car_obj.seating_capacity(5))"
   ]
  },
  {
   "cell_type": "code",
   "execution_count": 3,
   "id": "ee251e9f-af1f-4da5-b73f-25ebc4d678a3",
   "metadata": {},
   "outputs": [
    {
     "name": "stdout",
     "output_type": "stream",
     "text": [
      "This is class parent1\n",
      "This is class parent2\n",
      "This is class child.\n"
     ]
    }
   ],
   "source": [
    "'''\n",
    "Q3 - What is multiple inheritance? Write a python code -------------\n",
    "Ans - Multiple Inheritance - When a child class is derived from multiple base classes, then it is called multiple \n",
    "inheritance. For e.g. A child inherits features from both the parents is an example of multiple inheritance.\n",
    "'''\n",
    "class parent1:\n",
    "    def parent_msg(self):\n",
    "        print(\"This is class parent1\")\n",
    "\n",
    "class parent2:\n",
    "    def parent_msg(self):\n",
    "        print(\"This is class parent2\")\n",
    "\n",
    "class child(parent1, parent2):\n",
    "    def child_msg(self):\n",
    "        print(\"This is class child.\")\n",
    "\n",
    "child_obj = child()\n",
    "child_obj.parent_msg()\n",
    "parent2.parent_msg(child_obj)\n",
    "child_obj.child_msg()"
   ]
  },
  {
   "cell_type": "code",
   "execution_count": 4,
   "id": "3a11b6d1-c0f8-4e0a-ae66-80d51e7ab629",
   "metadata": {},
   "outputs": [
    {
     "name": "stdout",
     "output_type": "stream",
     "text": [
      "A = 5, B = 7\n",
      "A = 11, B = 13\n"
     ]
    }
   ],
   "source": [
    "'''Q4 - What are getter and setter in python? Create a class ---------------\n",
    "Ans - Getters and setters are the property decorators. These are used to ensure data encapsulation.\n",
    "Setter -  A setter is a method used to set or mutate the value of an attribute in a class.\n",
    "Getter - A getter is a method used to get the value of an attribute in a class.\n",
    "'''\n",
    "class test:\n",
    "    def __init__(self, val1, val2):\n",
    "        self.__a = val1\n",
    "        self.__b = val2\n",
    "    \n",
    "    @property\n",
    "    def access_a(self):\n",
    "        return self.__a\n",
    "    \n",
    "    @property\n",
    "    def access_b(self):\n",
    "        return self.__b\n",
    "    \n",
    "    @access_a.setter \n",
    "    \n",
    "    def set_a(self, x):\n",
    "        self.__a = x\n",
    "    \n",
    "    @access_b.setter\n",
    "    def set_b(self, y):\n",
    "        self.__b = y\n",
    "    \n",
    "    @access_a.deleter\n",
    "    def delete_a(self):\n",
    "        del self.__a\n",
    "    \n",
    "    @access_b.deleter\n",
    "    def delete_b(self):\n",
    "        del self.__b\n",
    "        \n",
    "    @access_a.getter\n",
    "    def get_a(self):\n",
    "        return self.__a\n",
    "    \n",
    "    @access_b.getter\n",
    "    def get_b(self):\n",
    "        return self.__b\n",
    "\n",
    "test_obj = test(5,7)\n",
    "print(f\"A = {test_obj.get_a}, B = {test_obj.get_b}\")\n",
    "\n",
    "test_obj.set_a = 11\n",
    "test_obj.set_b = 13\n",
    "print(f\"A = {test_obj.get_a}, B = {test_obj.get_b}\")"
   ]
  },
  {
   "cell_type": "code",
   "execution_count": 1,
   "id": "2fcbd8a7-af9b-4674-bd17-fe4b6ffccee4",
   "metadata": {},
   "outputs": [
    {
     "name": "stdout",
     "output_type": "stream",
     "text": [
      "A = 5\n",
      "A = 11, B = 15\n"
     ]
    }
   ],
   "source": [
    "'''Q5 - What is method overriding in python? -----------------------\n",
    "Ans - Method Overriding - When a method is redefined in the child class to perform a specific task inspite of \n",
    "being already defined in the parent class, the process is called method overriding.\n",
    "'''\n",
    "class parent:\n",
    "    def __init__(self, v1):\n",
    "        self.__a = v1\n",
    "        \n",
    "    def show(self):\n",
    "        print(f\"A = {self.__a}\")\n",
    "    \n",
    "class child(parent):\n",
    "    def __init__(self, v1, v2):\n",
    "        self.__a = v1\n",
    "        self.__b = v2\n",
    "    \n",
    "    def show(self):\n",
    "        print(f\"A = {self.__a}, B = {self.__b}\")\n",
    "par_obj = parent(5)\n",
    "par_obj.show()\n",
    "ch_obj = child(11,15)\n",
    "ch_obj.show()"
   ]
  },
  {
   "cell_type": "code",
   "execution_count": null,
   "id": "779573fa-00ca-41b3-89fb-1509daad266f",
   "metadata": {},
   "outputs": [],
   "source": []
  }
 ],
 "metadata": {
  "kernelspec": {
   "display_name": "Python 3 (ipykernel)",
   "language": "python",
   "name": "python3"
  },
  "language_info": {
   "codemirror_mode": {
    "name": "ipython",
    "version": 3
   },
   "file_extension": ".py",
   "mimetype": "text/x-python",
   "name": "python",
   "nbconvert_exporter": "python",
   "pygments_lexer": "ipython3",
   "version": "3.10.8"
  }
 },
 "nbformat": 4,
 "nbformat_minor": 5
}
