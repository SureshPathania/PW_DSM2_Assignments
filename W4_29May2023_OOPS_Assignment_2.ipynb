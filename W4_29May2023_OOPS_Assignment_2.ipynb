{
 "cells": [
  {
   "cell_type": "code",
   "execution_count": null,
   "id": "59671684-bf47-4d99-8a1c-3f38560eeb92",
   "metadata": {},
   "outputs": [],
   "source": [
    "''' ---------------------- OOPS Assignment 2 ------------------------\n",
    "\n",
    "Q 1 - What is Abstraction in OOPs? Explain -------\n",
    "Ans - Abstraction is defined as a process of handling complexity by hiding the unnecessary details and displaying \n",
    "only the relevant attributes of the objects. \n",
    "example 1 - When we drive a vehicle we only need to know how to start the vehicle, how to increase its speed, how to\n",
    "apply brakes and other basic details related to driving. But we don't require to know what spare parts are present \n",
    "in it, what is the working of those parts, how that vehicle works. All these details are not known to us or we can\n",
    "say that are hidden from us. \n",
    "Example 2 - when we visit an ATM. We can perform many tasks like withdraw cash, check balance, print statements, \n",
    "change pin etc. But we do not how it is implemented internally in the ATM machine.\n",
    "'''"
   ]
  },
  {
   "cell_type": "code",
   "execution_count": null,
   "id": "8f15d8de-9452-4fc7-935e-3613ecc3f788",
   "metadata": {},
   "outputs": [],
   "source": [
    "'''Q 2 - Differentiate between Abstraction and Encapsulation. ------------\n",
    "Ans - Abstraction -\n",
    "a) it is an oops concept that hides implementaion details and displays only functionality to users\n",
    "b) abstraction is a design level process.\n",
    "c) abstraction is used for reducing the complexity by hiding unnecessary information\n",
    "d) it hides data for reducing complexity\n",
    "Encapsulation - \n",
    "a) it is oops concept that binds or wraps the data and methods together into a single unit.\n",
    "b) encapsulation is a implementation level process\n",
    "c) it is used provide privacy of data and maintain control over transparency of data\n",
    "d) it hides data for protection of data\n",
    "\n",
    "Example of abstraction - An ATM machine is used for performing several tasks like withdrawal of cash, print \n",
    "statement, change of pin, checking balance in account. But all the details regarding how it has been implemented\n",
    "is hidden from us. Or we can say that we are only aware of its usage and its implementation details are hidden.\n",
    "\n",
    "Example of encapsulation - defining a class is an example of encapsulation. As it wraps the variables and functions\n",
    "into a single unit. \n",
    "\n",
    "'''\n"
   ]
  },
  {
   "cell_type": "code",
   "execution_count": null,
   "id": "56ef6cab-862f-4e11-816c-d71983971123",
   "metadata": {},
   "outputs": [],
   "source": [
    "'''Q 3 - what is abc module in ---------------\n",
    "Ans - abc module - abc means abstract base class. abc is a module in Python which provides the necessary tools for\n",
    "defining the custom abstract base classes. No instance of these abstract base classes can be created.\n",
    "Uses of abc module - abc module is used to define abstract base classes. Abstract base class serves as a blueprint\n",
    "for defining other classes or we can say that no object of these classes can be created and these classes are used \n",
    "only for deriving new classes from it. \n",
    "'''"
   ]
  },
  {
   "cell_type": "code",
   "execution_count": null,
   "id": "49de3812-a1dd-453f-b351-60511b7260b1",
   "metadata": {},
   "outputs": [],
   "source": [
    "'''Q 4 - How can we achieve data abstraction?\n",
    "Ans - Data abstraction in Python is acheived by hiding the implementation details from the user and emphasizing on\n",
    "its usage. This can be done with the help of abc module. It will help in defining abstract base classes.\n",
    "'''"
   ]
  },
  {
   "cell_type": "code",
   "execution_count": null,
   "id": "b6633ec8-ae32-4622-ab3e-4e232c131a7a",
   "metadata": {},
   "outputs": [],
   "source": [
    "'''Q 5 - Can we create instance -----------------\n",
    "Ans - No, we cannot create instance of a abstract class.\n",
    "Abstract classes have some methods which have not been defined. So as the abstract classes are not complete, these\n",
    "cannot be instantiated. \n",
    "'''"
   ]
  }
 ],
 "metadata": {
  "kernelspec": {
   "display_name": "Python 3 (ipykernel)",
   "language": "python",
   "name": "python3"
  },
  "language_info": {
   "codemirror_mode": {
    "name": "ipython",
    "version": 3
   },
   "file_extension": ".py",
   "mimetype": "text/x-python",
   "name": "python",
   "nbconvert_exporter": "python",
   "pygments_lexer": "ipython3",
   "version": "3.10.8"
  }
 },
 "nbformat": 4,
 "nbformat_minor": 5
}
