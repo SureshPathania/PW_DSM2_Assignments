{
 "cells": [
  {
   "cell_type": "code",
   "execution_count": 2,
   "id": "2e0a662e-26a9-4d58-83ac-3bc688222a61",
   "metadata": {},
   "outputs": [
    {
     "data": {
      "text/plain": [
       "('Amit', [2, 3, 4, 5], 2.35, (1, 2, 3))"
      ]
     },
     "execution_count": 2,
     "metadata": {},
     "output_type": "execute_result"
    }
   ],
   "source": [
    "str1=\"Amit\"\n",
    "list1 = [2, 3, 4, 5]\n",
    "fl_x = 2.35\n",
    "tup1 = (1, 2, 3)\n",
    "var1 = (str1, list1, fl_x, tup1)\n",
    "var1"
   ]
  },
  {
   "cell_type": "code",
   "execution_count": 3,
   "id": "50ab4b26-7f1e-4474-aa31-3be9e99e3e4c",
   "metadata": {},
   "outputs": [
    {
     "name": "stdout",
     "output_type": "stream",
     "text": [
      "  is of type  <class 'str'>\n",
      "[DS, ML, Python]  is of type  <class 'str'>\n",
      "['DS', 'ML', 'Python']  is of type  <class 'list'>\n",
      "1.0  is of type  <class 'float'>\n"
     ]
    }
   ],
   "source": [
    "var1 = ''\n",
    "var2 = '[DS, ML, Python]'\n",
    "var3 = ['DS', 'ML', 'Python']\n",
    "var4 = 1.\n",
    "print(var1,\" is of type \", type(var1))\n",
    "print(var2,\" is of type \", type(var2))\n",
    "print(var3,\" is of type \", type(var3))\n",
    "print(var4,\" is of type \", type(var4))"
   ]
  },
  {
   "cell_type": "code",
   "execution_count": 5,
   "id": "6305017a-9061-4323-99d0-5d488a365894",
   "metadata": {},
   "outputs": [
    {
     "name": "stdout",
     "output_type": "stream",
     "text": [
      "7 divided by 2 is  3.5\n",
      "7 modulus (remainder) 2 is  1\n",
      "7 divided (floor division) by 2 is  3\n",
      "7 raise to power 2 is  49\n"
     ]
    }
   ],
   "source": [
    "print(\"7 divided by 2 is \",7/2)\n",
    "print(\"7 modulus (remainder) 2 is \",7%2)\n",
    "print(\"7 divided (floor division) by 2 is \",7//2)\n",
    "print(\"7 raise to power 2 is \",7**2)\n"
   ]
  },
  {
   "cell_type": "code",
   "execution_count": 14,
   "id": "75f7476a-9c47-4b9d-8fda-19222a463daf",
   "metadata": {},
   "outputs": [
    {
     "name": "stdout",
     "output_type": "stream",
     "text": [
      "12  is of data type  <class 'int'>\n",
      "21  is of data type  <class 'int'>\n",
      "2.35  is of data type  <class 'float'>\n",
      "3.46  is of data type  <class 'float'>\n",
      "True  is of data type  <class 'bool'>\n",
      "False  is of data type  <class 'bool'>\n",
      "53  is of data type  <class 'int'>\n",
      "120.0  is of data type  <class 'float'>\n",
      "('m', 'o', 'o', 'n')  is of data type  <class 'tuple'>\n",
      "['s', 'u', 'n']  is of data type  <class 'list'>\n"
     ]
    }
   ],
   "source": [
    "my_list = [12, 21, 2.35, 3.46, True, False, 0o65, 1.2E2, ('m', 'o', 'o','n'), ['s', 'u', 'n']]\n",
    "for i in range(10):\n",
    "    print(my_list[i], \" is of data type \", type(my_list[i]))"
   ]
  },
  {
   "cell_type": "code",
   "execution_count": 15,
   "id": "a1d9cc83-826d-47a7-842b-752258a8955d",
   "metadata": {},
   "outputs": [
    {
     "name": "stdout",
     "output_type": "stream",
     "text": [
      "Enter A : \n"
     ]
    },
    {
     "name": "stdin",
     "output_type": "stream",
     "text": [
      " 16\n"
     ]
    },
    {
     "name": "stdout",
     "output_type": "stream",
     "text": [
      "Enter B : \n"
     ]
    },
    {
     "name": "stdin",
     "output_type": "stream",
     "text": [
      " 2\n"
     ]
    },
    {
     "name": "stdout",
     "output_type": "stream",
     "text": [
      "16  is purely divisible by  2  for  4  times.\n"
     ]
    }
   ],
   "source": [
    "print(\"Enter A : \")\n",
    "a=int(input())\n",
    "print(\"Enter B : \")\n",
    "b=int(input())\n",
    "\n",
    "x=a\n",
    "count = 0\n",
    "while x%b == 0:\n",
    "    count+=1\n",
    "    x//=b\n",
    "if count>0 :\n",
    "    print(a,\" is purely divisible by \",b,\" for \",count,\" times.\")\n",
    "else:\n",
    "    print(a,\" is not purely divisible by \",b)"
   ]
  },
  {
   "cell_type": "code",
   "execution_count": 16,
   "id": "27bc4f75-c7e1-4bc4-8fa6-4c742ddad389",
   "metadata": {},
   "outputs": [
    {
     "name": "stdout",
     "output_type": "stream",
     "text": [
      "12  is divisible by 3.\n",
      "21  is divisible by 3.\n",
      "11  is not divisible by 3.\n",
      "32  is not divisible by 3.\n",
      "23  is not divisible by 3.\n",
      "43  is not divisible by 3.\n",
      "54  is divisible by 3.\n",
      "45  is divisible by 3.\n",
      "65  is not divisible by 3.\n",
      "56  is not divisible by 3.\n",
      "67  is not divisible by 3.\n",
      "76  is not divisible by 3.\n",
      "78  is divisible by 3.\n",
      "87  is divisible by 3.\n",
      "89  is not divisible by 3.\n",
      "98  is not divisible by 3.\n",
      "90  is divisible by 3.\n",
      "1  is not divisible by 3.\n",
      "2  is not divisible by 3.\n",
      "3  is divisible by 3.\n",
      "4  is not divisible by 3.\n",
      "5  is not divisible by 3.\n",
      "67  is not divisible by 3.\n",
      "7  is not divisible by 3.\n",
      "17  is not divisible by 3.\n"
     ]
    }
   ],
   "source": [
    "list1 = [12,21,11,32,23,43,54,45,65,56,67,76,78,87,89,98,90,1,2,3,4,5,67,7,17]\n",
    "for i in range(25):\n",
    "    if list1[i]%3 == 0:\n",
    "        print(list1[i],\" is divisible by 3.\")\n",
    "    else:\n",
    "        print(list1[i],\" is not divisible by 3.\")"
   ]
  },
  {
   "cell_type": "code",
   "execution_count": 17,
   "id": "28414c36-79b1-4d7b-bdd2-ac59b0d195d2",
   "metadata": {},
   "outputs": [
    {
     "data": {
      "text/plain": [
       "['s', 'o', 'n']"
      ]
     },
     "execution_count": 17,
     "metadata": {},
     "output_type": "execute_result"
    }
   ],
   "source": [
    "#mutable data types can be modified e.g. lists\n",
    "list_x = ['s','u','n']\n",
    "list_x\n",
    "list_x[1] = 'o'\n",
    "list_x"
   ]
  },
  {
   "cell_type": "code",
   "execution_count": 18,
   "id": "0c7e5459-c516-4a96-8217-6e652db88c2f",
   "metadata": {},
   "outputs": [
    {
     "ename": "TypeError",
     "evalue": "'tuple' object does not support item assignment",
     "output_type": "error",
     "traceback": [
      "\u001b[0;31m---------------------------------------------------------------------------\u001b[0m",
      "\u001b[0;31mTypeError\u001b[0m                                 Traceback (most recent call last)",
      "Cell \u001b[0;32mIn[18], line 4\u001b[0m\n\u001b[1;32m      2\u001b[0m tup_x \u001b[38;5;241m=\u001b[39m (\u001b[38;5;124m'\u001b[39m\u001b[38;5;124ms\u001b[39m\u001b[38;5;124m'\u001b[39m,\u001b[38;5;124m'\u001b[39m\u001b[38;5;124mu\u001b[39m\u001b[38;5;124m'\u001b[39m,\u001b[38;5;124m'\u001b[39m\u001b[38;5;124mn\u001b[39m\u001b[38;5;124m'\u001b[39m)\n\u001b[1;32m      3\u001b[0m tup_x\n\u001b[0;32m----> 4\u001b[0m \u001b[43mtup_x\u001b[49m\u001b[43m[\u001b[49m\u001b[38;5;241;43m1\u001b[39;49m\u001b[43m]\u001b[49m \u001b[38;5;241m=\u001b[39m \u001b[38;5;124m'\u001b[39m\u001b[38;5;124mo\u001b[39m\u001b[38;5;124m'\u001b[39m\n\u001b[1;32m      5\u001b[0m tup_x\n",
      "\u001b[0;31mTypeError\u001b[0m: 'tuple' object does not support item assignment"
     ]
    }
   ],
   "source": [
    "#immutable data types cannot be modified. e.g. tuples or strings\n",
    "tup_x = ('s','u','n')\n",
    "tup_x\n",
    "tup_x[1] = 'o'\n",
    "tup_x"
   ]
  },
  {
   "cell_type": "code",
   "execution_count": null,
   "id": "49fd1de3-1e37-41f4-8d5f-4182419efe34",
   "metadata": {},
   "outputs": [],
   "source": []
  }
 ],
 "metadata": {
  "kernelspec": {
   "display_name": "Python 3 (ipykernel)",
   "language": "python",
   "name": "python3"
  },
  "language_info": {
   "codemirror_mode": {
    "name": "ipython",
    "version": 3
   },
   "file_extension": ".py",
   "mimetype": "text/x-python",
   "name": "python",
   "nbconvert_exporter": "python",
   "pygments_lexer": "ipython3",
   "version": "3.10.8"
  }
 },
 "nbformat": 4,
 "nbformat_minor": 5
}
